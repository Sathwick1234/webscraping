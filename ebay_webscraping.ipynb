{
 "cells": [
  {
   "cell_type": "markdown",
   "id": "4f6441cc",
   "metadata": {},
   "source": [
    "## Step-1: Scraping mobilephones from ebay website"
   ]
  },
  {
   "cell_type": "code",
   "execution_count": 40,
   "id": "c74bf9f8",
   "metadata": {},
   "outputs": [],
   "source": [
    "import requests\n",
    "from bs4 import BeautifulSoup\n",
    "import pandas as pd\n",
    "\n",
    "def scrape_ebay_info(base_url, num_pages):\n",
    "    # Initialize lists to store data\n",
    "    titles = []\n",
    "    conditions = []\n",
    "    prices = []\n",
    "    \n",
    "    try:\n",
    "        # Loop through each page\n",
    "        for page in range(1, num_pages + 1):\n",
    "            # Construct the URL for the current page\n",
    "            url = base_url + \"&_pgn=\" + str(page)\n",
    "            \n",
    "            # Send a GET request to the eBay URL\n",
    "            response = requests.get(url)\n",
    "            \n",
    "            # Raise an exception for bad status codes\n",
    "            response.raise_for_status()\n",
    "            \n",
    "            # Parse the HTML content of the page\n",
    "            soup = BeautifulSoup(response.content, 'html.parser')\n",
    "            \n",
    "            # Find all the item containers\n",
    "            items = soup.find_all('div', class_='s-item__info')\n",
    "            \n",
    "            # Loop through each item and extract title, condition, and price\n",
    "            for item in items:\n",
    "                # Extract title\n",
    "                title_element = item.find('div', class_='s-item__title')\n",
    "                title = title_element.text.strip() if title_element else \"Title not found\"\n",
    "                titles.append(title)\n",
    "                \n",
    "                # Extract condition\n",
    "                condition_element = item.find('span', class_='SECONDARY_INFO')\n",
    "                condition = condition_element.text.strip() if condition_element else \"Condition not found\"\n",
    "                conditions.append(condition)\n",
    "                \n",
    "                # Extract price\n",
    "                price_element = item.find('span', class_='s-item__price')\n",
    "                price = price_element.text.strip() if price_element else \"Price not found\"\n",
    "                prices.append(price)\n",
    "    \n",
    "    except requests.exceptions.RequestException as e:\n",
    "        print(\"Failed to retrieve page:\", e)\n",
    "    \n",
    "    # Create DataFrame\n",
    "    df = pd.DataFrame({\n",
    "        'Title': titles,\n",
    "        'Condition': conditions,\n",
    "        'Price': prices\n",
    "    })\n",
    "    \n",
    "    return df\n",
    "\n",
    "# Base URL of the eBay search results page\n",
    "base_url = \"https://www.ebay.ca/sch/i.html?_from=R40&_trksid=p2334524.m570.l1313&_nkw=smartphones&_sacat=0&_odkw=books&_osacat=0\"\n",
    "\n",
    "# Number of pages to scrape\n",
    "num_pages = 100\n",
    "\n",
    "# Call the function to scrape information and create DataFrame\n",
    "ebays_df = scrape_ebay_info(base_url, num_pages)\n",
    "\n",
    "# Save DataFrame to CSV file\n",
    "ebays_df.to_csv('smartphones_in_ebay.csv', index=False)\n"
   ]
  },
  {
   "cell_type": "code",
   "execution_count": 43,
   "id": "35a502d6",
   "metadata": {},
   "outputs": [
    {
     "data": {
      "text/html": [
       "<div>\n",
       "<style scoped>\n",
       "    .dataframe tbody tr th:only-of-type {\n",
       "        vertical-align: middle;\n",
       "    }\n",
       "\n",
       "    .dataframe tbody tr th {\n",
       "        vertical-align: top;\n",
       "    }\n",
       "\n",
       "    .dataframe thead th {\n",
       "        text-align: right;\n",
       "    }\n",
       "</style>\n",
       "<table border=\"1\" class=\"dataframe\">\n",
       "  <thead>\n",
       "    <tr style=\"text-align: right;\">\n",
       "      <th></th>\n",
       "      <th>Title</th>\n",
       "      <th>Condition</th>\n",
       "      <th>Price</th>\n",
       "    </tr>\n",
       "  </thead>\n",
       "  <tbody>\n",
       "    <tr>\n",
       "      <th>0</th>\n",
       "      <td>Shop on eBay</td>\n",
       "      <td>Brand New</td>\n",
       "      <td>$20.00</td>\n",
       "    </tr>\n",
       "    <tr>\n",
       "      <th>1</th>\n",
       "      <td>LG G6 - 32GB - Astro Black Unlocked Smartphone...</td>\n",
       "      <td>Very Good - Refurbished</td>\n",
       "      <td>C $89.99</td>\n",
       "    </tr>\n",
       "    <tr>\n",
       "      <th>2</th>\n",
       "      <td>Motorola Edge 2023 5G - 256GB - Eclipse Black ...</td>\n",
       "      <td>Brand New</td>\n",
       "      <td>C $389.99</td>\n",
       "    </tr>\n",
       "    <tr>\n",
       "      <th>3</th>\n",
       "      <td>Apple iPhone 7 - 128GB - All Colors - Unlocked...</td>\n",
       "      <td>Pre-Owned</td>\n",
       "      <td>C $117.72 to C $165.08</td>\n",
       "    </tr>\n",
       "    <tr>\n",
       "      <th>4</th>\n",
       "      <td>S23 Ultra Smartphone 7.3\" 16GB+1T 5G Unlocked ...</td>\n",
       "      <td>Brand New</td>\n",
       "      <td>C $230.02</td>\n",
       "    </tr>\n",
       "  </tbody>\n",
       "</table>\n",
       "</div>"
      ],
      "text/plain": [
       "                                               Title                Condition  \\\n",
       "0                                       Shop on eBay                Brand New   \n",
       "1  LG G6 - 32GB - Astro Black Unlocked Smartphone...  Very Good - Refurbished   \n",
       "2  Motorola Edge 2023 5G - 256GB - Eclipse Black ...                Brand New   \n",
       "3  Apple iPhone 7 - 128GB - All Colors - Unlocked...                Pre-Owned   \n",
       "4  S23 Ultra Smartphone 7.3\" 16GB+1T 5G Unlocked ...                Brand New   \n",
       "\n",
       "                    Price  \n",
       "0                  $20.00  \n",
       "1                C $89.99  \n",
       "2               C $389.99  \n",
       "3  C $117.72 to C $165.08  \n",
       "4               C $230.02  "
      ]
     },
     "execution_count": 43,
     "metadata": {},
     "output_type": "execute_result"
    }
   ],
   "source": [
    "ebays_df.head() # displays first five rows of a dataframe"
   ]
  },
  {
   "cell_type": "code",
   "execution_count": 44,
   "id": "1a3997df",
   "metadata": {},
   "outputs": [
    {
     "data": {
      "text/plain": [
       "(8298, 3)"
      ]
     },
     "execution_count": 44,
     "metadata": {},
     "output_type": "execute_result"
    }
   ],
   "source": [
    "ebays_df.shape # display number of rows and columns in a dataframe"
   ]
  },
  {
   "cell_type": "markdown",
   "id": "f80827a2",
   "metadata": {},
   "source": [
    "## Step2: data wrangling"
   ]
  },
  {
   "cell_type": "code",
   "execution_count": 45,
   "id": "5132bdc7",
   "metadata": {},
   "outputs": [
    {
     "name": "stdout",
     "output_type": "stream",
     "text": [
      "Title        0\n",
      "Condition    0\n",
      "Price        0\n",
      "dtype: int64\n"
     ]
    }
   ],
   "source": [
    "missing_values=ebays_df.isnull().sum() # display the count of null vakues in each column of a dataframe.\n",
    "print(missing_values)"
   ]
  },
  {
   "cell_type": "code",
   "execution_count": 46,
   "id": "960f05b6",
   "metadata": {},
   "outputs": [
    {
     "data": {
      "text/html": [
       "<div>\n",
       "<style scoped>\n",
       "    .dataframe tbody tr th:only-of-type {\n",
       "        vertical-align: middle;\n",
       "    }\n",
       "\n",
       "    .dataframe tbody tr th {\n",
       "        vertical-align: top;\n",
       "    }\n",
       "\n",
       "    .dataframe thead th {\n",
       "        text-align: right;\n",
       "    }\n",
       "</style>\n",
       "<table border=\"1\" class=\"dataframe\">\n",
       "  <thead>\n",
       "    <tr style=\"text-align: right;\">\n",
       "      <th></th>\n",
       "      <th>Title</th>\n",
       "      <th>Condition</th>\n",
       "      <th>Price</th>\n",
       "    </tr>\n",
       "  </thead>\n",
       "  <tbody>\n",
       "    <tr>\n",
       "      <th>0</th>\n",
       "      <td>Shop on eBay</td>\n",
       "      <td>Brand New</td>\n",
       "      <td>$20.00</td>\n",
       "    </tr>\n",
       "    <tr>\n",
       "      <th>1</th>\n",
       "      <td>LG G6 - 32GB - Astro Black Unlocked Smartphone...</td>\n",
       "      <td>Very Good - Refurbished</td>\n",
       "      <td>C $89.99</td>\n",
       "    </tr>\n",
       "    <tr>\n",
       "      <th>2</th>\n",
       "      <td>Motorola Edge 2023 5G - 256GB - Eclipse Black ...</td>\n",
       "      <td>Brand New</td>\n",
       "      <td>C $389.99</td>\n",
       "    </tr>\n",
       "    <tr>\n",
       "      <th>3</th>\n",
       "      <td>Apple iPhone 7 - 128GB - All Colors - Unlocked...</td>\n",
       "      <td>Pre-Owned</td>\n",
       "      <td>C $117.72 to C $165.08</td>\n",
       "    </tr>\n",
       "    <tr>\n",
       "      <th>4</th>\n",
       "      <td>S23 Ultra Smartphone 7.3\" 16GB+1T 5G Unlocked ...</td>\n",
       "      <td>Brand New</td>\n",
       "      <td>C $230.02</td>\n",
       "    </tr>\n",
       "  </tbody>\n",
       "</table>\n",
       "</div>"
      ],
      "text/plain": [
       "                                               Title                Condition  \\\n",
       "0                                       Shop on eBay                Brand New   \n",
       "1  LG G6 - 32GB - Astro Black Unlocked Smartphone...  Very Good - Refurbished   \n",
       "2  Motorola Edge 2023 5G - 256GB - Eclipse Black ...                Brand New   \n",
       "3  Apple iPhone 7 - 128GB - All Colors - Unlocked...                Pre-Owned   \n",
       "4  S23 Ultra Smartphone 7.3\" 16GB+1T 5G Unlocked ...                Brand New   \n",
       "\n",
       "                    Price  \n",
       "0                  $20.00  \n",
       "1                C $89.99  \n",
       "2               C $389.99  \n",
       "3  C $117.72 to C $165.08  \n",
       "4               C $230.02  "
      ]
     },
     "execution_count": 46,
     "metadata": {},
     "output_type": "execute_result"
    }
   ],
   "source": [
    "ebays_df.head() "
   ]
  },
  {
   "cell_type": "code",
   "execution_count": 47,
   "id": "71c0d9be",
   "metadata": {},
   "outputs": [
    {
     "data": {
      "text/html": [
       "<div>\n",
       "<style scoped>\n",
       "    .dataframe tbody tr th:only-of-type {\n",
       "        vertical-align: middle;\n",
       "    }\n",
       "\n",
       "    .dataframe tbody tr th {\n",
       "        vertical-align: top;\n",
       "    }\n",
       "\n",
       "    .dataframe thead th {\n",
       "        text-align: right;\n",
       "    }\n",
       "</style>\n",
       "<table border=\"1\" class=\"dataframe\">\n",
       "  <thead>\n",
       "    <tr style=\"text-align: right;\">\n",
       "      <th></th>\n",
       "      <th>Title</th>\n",
       "      <th>Condition</th>\n",
       "      <th>Price</th>\n",
       "    </tr>\n",
       "  </thead>\n",
       "  <tbody>\n",
       "    <tr>\n",
       "      <th>0</th>\n",
       "      <td>Shop on eBay</td>\n",
       "      <td>Brand New</td>\n",
       "      <td>$20.00</td>\n",
       "    </tr>\n",
       "    <tr>\n",
       "      <th>1</th>\n",
       "      <td>LG G6 - 32GB - Astro Black Unlocked Smartphone...</td>\n",
       "      <td>Very Good - Refurbished</td>\n",
       "      <td>C $89.99</td>\n",
       "    </tr>\n",
       "    <tr>\n",
       "      <th>2</th>\n",
       "      <td>Motorola Edge 2023 5G - 256GB - Eclipse Black ...</td>\n",
       "      <td>Brand New</td>\n",
       "      <td>C $389.99</td>\n",
       "    </tr>\n",
       "    <tr>\n",
       "      <th>3</th>\n",
       "      <td>Apple iPhone 7 - 128GB - All Colors - Unlocked...</td>\n",
       "      <td>Pre-Owned</td>\n",
       "      <td>C $165.08</td>\n",
       "    </tr>\n",
       "    <tr>\n",
       "      <th>4</th>\n",
       "      <td>S23 Ultra Smartphone 7.3\" 16GB+1T 5G Unlocked ...</td>\n",
       "      <td>Brand New</td>\n",
       "      <td>C $230.02</td>\n",
       "    </tr>\n",
       "  </tbody>\n",
       "</table>\n",
       "</div>"
      ],
      "text/plain": [
       "                                               Title                Condition  \\\n",
       "0                                       Shop on eBay                Brand New   \n",
       "1  LG G6 - 32GB - Astro Black Unlocked Smartphone...  Very Good - Refurbished   \n",
       "2  Motorola Edge 2023 5G - 256GB - Eclipse Black ...                Brand New   \n",
       "3  Apple iPhone 7 - 128GB - All Colors - Unlocked...                Pre-Owned   \n",
       "4  S23 Ultra Smartphone 7.3\" 16GB+1T 5G Unlocked ...                Brand New   \n",
       "\n",
       "       Price  \n",
       "0     $20.00  \n",
       "1   C $89.99  \n",
       "2  C $389.99  \n",
       "3  C $165.08  \n",
       "4  C $230.02  "
      ]
     },
     "execution_count": 47,
     "metadata": {},
     "output_type": "execute_result"
    }
   ],
   "source": [
    "# Split the strings based on the keyword \"to\" and keep only the second part(We are considering the maximum price of a product)\n",
    "ebays_df['Price'] = ebays_df['Price'].str.split(\" to \").str[-1]\n",
    "ebays_df.head()"
   ]
  },
  {
   "cell_type": "code",
   "execution_count": 48,
   "id": "5a8c2999",
   "metadata": {},
   "outputs": [
    {
     "data": {
      "text/plain": [
       "0       $20.00\n",
       "1     C $89.99\n",
       "2    C $389.99\n",
       "3    C $165.08\n",
       "4    C $230.02\n",
       "Name: Price, dtype: object"
      ]
     },
     "execution_count": 48,
     "metadata": {},
     "output_type": "execute_result"
    }
   ],
   "source": [
    "ebays_df['Price'].head() # displays first five values present in the Price column"
   ]
  },
  {
   "cell_type": "code",
   "execution_count": 49,
   "id": "920206c1",
   "metadata": {},
   "outputs": [],
   "source": [
    "# Use regular expression to extract digits from each string in the 'Price' column\n",
    "ebays_df['Price(in CAD)'] = ebays_df['Price'].str.extract(r'(\\d+\\.\\d+|\\d+)')"
   ]
  },
  {
   "cell_type": "code",
   "execution_count": 50,
   "id": "ce90f7ed",
   "metadata": {},
   "outputs": [
    {
     "data": {
      "text/html": [
       "<div>\n",
       "<style scoped>\n",
       "    .dataframe tbody tr th:only-of-type {\n",
       "        vertical-align: middle;\n",
       "    }\n",
       "\n",
       "    .dataframe tbody tr th {\n",
       "        vertical-align: top;\n",
       "    }\n",
       "\n",
       "    .dataframe thead th {\n",
       "        text-align: right;\n",
       "    }\n",
       "</style>\n",
       "<table border=\"1\" class=\"dataframe\">\n",
       "  <thead>\n",
       "    <tr style=\"text-align: right;\">\n",
       "      <th></th>\n",
       "      <th>Title</th>\n",
       "      <th>Condition</th>\n",
       "      <th>Price</th>\n",
       "      <th>Price(in CAD)</th>\n",
       "    </tr>\n",
       "  </thead>\n",
       "  <tbody>\n",
       "    <tr>\n",
       "      <th>0</th>\n",
       "      <td>Shop on eBay</td>\n",
       "      <td>Brand New</td>\n",
       "      <td>$20.00</td>\n",
       "      <td>20.00</td>\n",
       "    </tr>\n",
       "    <tr>\n",
       "      <th>1</th>\n",
       "      <td>LG G6 - 32GB - Astro Black Unlocked Smartphone...</td>\n",
       "      <td>Very Good - Refurbished</td>\n",
       "      <td>C $89.99</td>\n",
       "      <td>89.99</td>\n",
       "    </tr>\n",
       "    <tr>\n",
       "      <th>2</th>\n",
       "      <td>Motorola Edge 2023 5G - 256GB - Eclipse Black ...</td>\n",
       "      <td>Brand New</td>\n",
       "      <td>C $389.99</td>\n",
       "      <td>389.99</td>\n",
       "    </tr>\n",
       "    <tr>\n",
       "      <th>3</th>\n",
       "      <td>Apple iPhone 7 - 128GB - All Colors - Unlocked...</td>\n",
       "      <td>Pre-Owned</td>\n",
       "      <td>C $165.08</td>\n",
       "      <td>165.08</td>\n",
       "    </tr>\n",
       "    <tr>\n",
       "      <th>4</th>\n",
       "      <td>S23 Ultra Smartphone 7.3\" 16GB+1T 5G Unlocked ...</td>\n",
       "      <td>Brand New</td>\n",
       "      <td>C $230.02</td>\n",
       "      <td>230.02</td>\n",
       "    </tr>\n",
       "  </tbody>\n",
       "</table>\n",
       "</div>"
      ],
      "text/plain": [
       "                                               Title                Condition  \\\n",
       "0                                       Shop on eBay                Brand New   \n",
       "1  LG G6 - 32GB - Astro Black Unlocked Smartphone...  Very Good - Refurbished   \n",
       "2  Motorola Edge 2023 5G - 256GB - Eclipse Black ...                Brand New   \n",
       "3  Apple iPhone 7 - 128GB - All Colors - Unlocked...                Pre-Owned   \n",
       "4  S23 Ultra Smartphone 7.3\" 16GB+1T 5G Unlocked ...                Brand New   \n",
       "\n",
       "       Price Price(in CAD)  \n",
       "0     $20.00         20.00  \n",
       "1   C $89.99         89.99  \n",
       "2  C $389.99        389.99  \n",
       "3  C $165.08        165.08  \n",
       "4  C $230.02        230.02  "
      ]
     },
     "execution_count": 50,
     "metadata": {},
     "output_type": "execute_result"
    }
   ],
   "source": [
    "ebays_df.head() "
   ]
  },
  {
   "cell_type": "code",
   "execution_count": 51,
   "id": "fe462099",
   "metadata": {},
   "outputs": [],
   "source": [
    "ebays_df = ebays_df.drop('Price', axis=1) # deleting the price column in the dataframe"
   ]
  },
  {
   "cell_type": "code",
   "execution_count": 52,
   "id": "d1708358",
   "metadata": {},
   "outputs": [
    {
     "data": {
      "text/html": [
       "<div>\n",
       "<style scoped>\n",
       "    .dataframe tbody tr th:only-of-type {\n",
       "        vertical-align: middle;\n",
       "    }\n",
       "\n",
       "    .dataframe tbody tr th {\n",
       "        vertical-align: top;\n",
       "    }\n",
       "\n",
       "    .dataframe thead th {\n",
       "        text-align: right;\n",
       "    }\n",
       "</style>\n",
       "<table border=\"1\" class=\"dataframe\">\n",
       "  <thead>\n",
       "    <tr style=\"text-align: right;\">\n",
       "      <th></th>\n",
       "      <th>Title</th>\n",
       "      <th>Condition</th>\n",
       "      <th>Price(in CAD)</th>\n",
       "    </tr>\n",
       "  </thead>\n",
       "  <tbody>\n",
       "    <tr>\n",
       "      <th>0</th>\n",
       "      <td>Shop on eBay</td>\n",
       "      <td>Brand New</td>\n",
       "      <td>20.00</td>\n",
       "    </tr>\n",
       "    <tr>\n",
       "      <th>1</th>\n",
       "      <td>LG G6 - 32GB - Astro Black Unlocked Smartphone...</td>\n",
       "      <td>Very Good - Refurbished</td>\n",
       "      <td>89.99</td>\n",
       "    </tr>\n",
       "    <tr>\n",
       "      <th>2</th>\n",
       "      <td>Motorola Edge 2023 5G - 256GB - Eclipse Black ...</td>\n",
       "      <td>Brand New</td>\n",
       "      <td>389.99</td>\n",
       "    </tr>\n",
       "    <tr>\n",
       "      <th>3</th>\n",
       "      <td>Apple iPhone 7 - 128GB - All Colors - Unlocked...</td>\n",
       "      <td>Pre-Owned</td>\n",
       "      <td>165.08</td>\n",
       "    </tr>\n",
       "    <tr>\n",
       "      <th>4</th>\n",
       "      <td>S23 Ultra Smartphone 7.3\" 16GB+1T 5G Unlocked ...</td>\n",
       "      <td>Brand New</td>\n",
       "      <td>230.02</td>\n",
       "    </tr>\n",
       "  </tbody>\n",
       "</table>\n",
       "</div>"
      ],
      "text/plain": [
       "                                               Title                Condition  \\\n",
       "0                                       Shop on eBay                Brand New   \n",
       "1  LG G6 - 32GB - Astro Black Unlocked Smartphone...  Very Good - Refurbished   \n",
       "2  Motorola Edge 2023 5G - 256GB - Eclipse Black ...                Brand New   \n",
       "3  Apple iPhone 7 - 128GB - All Colors - Unlocked...                Pre-Owned   \n",
       "4  S23 Ultra Smartphone 7.3\" 16GB+1T 5G Unlocked ...                Brand New   \n",
       "\n",
       "  Price(in CAD)  \n",
       "0         20.00  \n",
       "1         89.99  \n",
       "2        389.99  \n",
       "3        165.08  \n",
       "4        230.02  "
      ]
     },
     "execution_count": 52,
     "metadata": {},
     "output_type": "execute_result"
    }
   ],
   "source": [
    "ebays_df.head()"
   ]
  },
  {
   "cell_type": "code",
   "execution_count": 53,
   "id": "2ed4fe94",
   "metadata": {},
   "outputs": [
    {
     "name": "stdout",
     "output_type": "stream",
     "text": [
      "float64\n"
     ]
    }
   ],
   "source": [
    "import pandas as pd\n",
    "\n",
    "# converting object datatype to float in a price column.\n",
    "ebays_df['Price(in CAD)'] = pd.to_numeric(ebays_df['Price(in CAD)'], errors='coerce') \n",
    "\n",
    "# Check data type after conversion\n",
    "print(ebays_df['Price(in CAD)'].dtype)\n"
   ]
  },
  {
   "cell_type": "code",
   "execution_count": 54,
   "id": "fec21457",
   "metadata": {},
   "outputs": [
    {
     "data": {
      "text/plain": [
       "Title            0\n",
       "Condition        0\n",
       "Price(in CAD)    0\n",
       "dtype: int64"
      ]
     },
     "execution_count": 54,
     "metadata": {},
     "output_type": "execute_result"
    }
   ],
   "source": [
    "ebays_df.isnull().sum()"
   ]
  },
  {
   "cell_type": "code",
   "execution_count": 55,
   "id": "1b26e904",
   "metadata": {},
   "outputs": [
    {
     "data": {
      "text/html": [
       "<div>\n",
       "<style scoped>\n",
       "    .dataframe tbody tr th:only-of-type {\n",
       "        vertical-align: middle;\n",
       "    }\n",
       "\n",
       "    .dataframe tbody tr th {\n",
       "        vertical-align: top;\n",
       "    }\n",
       "\n",
       "    .dataframe thead th {\n",
       "        text-align: right;\n",
       "    }\n",
       "</style>\n",
       "<table border=\"1\" class=\"dataframe\">\n",
       "  <thead>\n",
       "    <tr style=\"text-align: right;\">\n",
       "      <th></th>\n",
       "      <th>Title</th>\n",
       "      <th>Condition</th>\n",
       "      <th>Price(in CAD)</th>\n",
       "    </tr>\n",
       "  </thead>\n",
       "  <tbody>\n",
       "    <tr>\n",
       "      <th>0</th>\n",
       "      <td>Shop on eBay</td>\n",
       "      <td>Brand New</td>\n",
       "      <td>20.00</td>\n",
       "    </tr>\n",
       "    <tr>\n",
       "      <th>1</th>\n",
       "      <td>LG G6 - 32GB - Astro Black Unlocked Smartphone...</td>\n",
       "      <td>Very Good - Refurbished</td>\n",
       "      <td>89.99</td>\n",
       "    </tr>\n",
       "    <tr>\n",
       "      <th>2</th>\n",
       "      <td>Motorola Edge 2023 5G - 256GB - Eclipse Black ...</td>\n",
       "      <td>Brand New</td>\n",
       "      <td>389.99</td>\n",
       "    </tr>\n",
       "    <tr>\n",
       "      <th>3</th>\n",
       "      <td>Apple iPhone 7 - 128GB - All Colors - Unlocked...</td>\n",
       "      <td>Pre-Owned</td>\n",
       "      <td>165.08</td>\n",
       "    </tr>\n",
       "    <tr>\n",
       "      <th>4</th>\n",
       "      <td>S23 Ultra Smartphone 7.3\" 16GB+1T 5G Unlocked ...</td>\n",
       "      <td>Brand New</td>\n",
       "      <td>230.02</td>\n",
       "    </tr>\n",
       "  </tbody>\n",
       "</table>\n",
       "</div>"
      ],
      "text/plain": [
       "                                               Title                Condition  \\\n",
       "0                                       Shop on eBay                Brand New   \n",
       "1  LG G6 - 32GB - Astro Black Unlocked Smartphone...  Very Good - Refurbished   \n",
       "2  Motorola Edge 2023 5G - 256GB - Eclipse Black ...                Brand New   \n",
       "3  Apple iPhone 7 - 128GB - All Colors - Unlocked...                Pre-Owned   \n",
       "4  S23 Ultra Smartphone 7.3\" 16GB+1T 5G Unlocked ...                Brand New   \n",
       "\n",
       "   Price(in CAD)  \n",
       "0          20.00  \n",
       "1          89.99  \n",
       "2         389.99  \n",
       "3         165.08  \n",
       "4         230.02  "
      ]
     },
     "execution_count": 55,
     "metadata": {},
     "output_type": "execute_result"
    }
   ],
   "source": [
    "ebays_df.head()"
   ]
  },
  {
   "cell_type": "code",
   "execution_count": 56,
   "id": "5e7ec50f",
   "metadata": {},
   "outputs": [
    {
     "data": {
      "text/plain": [
       "Pre-Owned                  3035\n",
       "Brand New                  1800\n",
       "Very Good - Refurbished    1308\n",
       "Condition not found         800\n",
       "Good - Refurbished          447\n",
       "Excellent - Refurbished     396\n",
       "New (Other)                 212\n",
       "Parts Only                  200\n",
       "Open Box                    100\n",
       "Name: Condition, dtype: int64"
      ]
     },
     "execution_count": 56,
     "metadata": {},
     "output_type": "execute_result"
    }
   ],
   "source": [
    "ebays_df['Condition'].value_counts() #Count the occurrences of each value in the 'Condition' column"
   ]
  },
  {
   "cell_type": "markdown",
   "id": "9905e467",
   "metadata": {},
   "source": [
    "## Step-3: Data Visualization"
   ]
  },
  {
   "cell_type": "code",
   "execution_count": 57,
   "id": "11c5f952",
   "metadata": {},
   "outputs": [
    {
     "data": {
      "image/png": "[encoded data removed]",
      "text/plain": [
       "<Figure size 640x480 with 1 Axes>"
      ]
     },
     "metadata": {},
     "output_type": "display_data"
    }
   ],
   "source": [
    "import matplotlib.pyplot as plt\n",
    "\n",
    "# Get value counts of 'Condition' column\n",
    "condition_counts = ebays_df['Condition'].value_counts()\n",
    "\n",
    "# Plot the value counts\n",
    "condition_counts.plot(kind='bar')\n",
    "\n",
    "# Adding labels and title\n",
    "plt.xlabel('Condition')\n",
    "plt.ylabel('Count')\n",
    "plt.title('Value Counts of Conditions')\n",
    "\n",
    "# Show the plot\n",
    "plt.show()\n"
   ]
  },
  {
   "cell_type": "markdown",
   "id": "1d7b87bd",
   "metadata": {},
   "source": [
    "Insights: Overall, the prominence of preowned items on eBay reflects the platform's role as a marketplace that caters to both sellers looking to offload their used items and buyers seeking affordable alternatives to new products."
   ]
  },
  {
   "cell_type": "code",
   "execution_count": 58,
   "id": "dc61fd33",
   "metadata": {},
   "outputs": [
    {
     "data": {
      "image/png": "[encoded data removed]",
      "text/plain": [
       "<Figure size 800x600 with 1 Axes>"
      ]
     },
     "metadata": {},
     "output_type": "display_data"
    }
   ],
   "source": [
    "\n",
    "# Define brands\n",
    "brands = ['Samsung', 'Apple', 'LG', 'Motorola', 'Nokia', 'Google', 'Pova5']\n",
    "\n",
    "# Extract brand names\n",
    "ebays_df['Brand'] = ebays_df['Title'].apply(lambda x: next((brand for brand in brands if brand in x), 'Others'))\n",
    "\n",
    "# Plot\n",
    "plt.figure(figsize=(8, 6))\n",
    "ebays_df['Brand'].value_counts().plot(kind='bar', color='skyblue')\n",
    "plt.title('Counts of Mobile Phone Brands')\n",
    "plt.xlabel('Brand')\n",
    "plt.ylabel('Count')\n",
    "plt.xticks(rotation=45)\n",
    "plt.show()\n"
   ]
  },
  {
   "cell_type": "markdown",
   "id": "e3fd8848",
   "metadata": {},
   "source": [
    "Insights: Looking at the bar graph, it's evident that most folks in North America have a strong inclination toward buying Apple and Samsung gadgets. The preference is shining through in the graph, where the number of listings for Apple and Samsung products stands out prominently compared to other brands. This tells that the majority of consumers in North America lean towards choosing mobile devices made by Apple and Samsung."
   ]
  },
  {
   "cell_type": "code",
   "execution_count": 59,
   "id": "f9675f02",
   "metadata": {},
   "outputs": [
    {
     "data": {
      "image/png": "[encoded data removed]",
      "text/plain": [
       "<Figure size 640x480 with 1 Axes>"
      ]
     },
     "metadata": {},
     "output_type": "display_data"
    }
   ],
   "source": [
    "import matplotlib.pyplot as plt\n",
    "\n",
    "# Assuming your DataFrame is named ebays_df and the price column is 'Price(in CAD)'\n",
    "ebays_df['Price(in CAD)'].plot(kind='hist', bins=20, color='skyblue', edgecolor='black')\n",
    "\n",
    "# Adding labels and title\n",
    "plt.xlabel('Price (CAD)')\n",
    "plt.ylabel('Frequency')\n",
    "plt.title('Distribution of Mobile Phone Prices')\n",
    "\n",
    "# Show the plot\n",
    "plt.show()\n"
   ]
  },
  {
   "cell_type": "markdown",
   "id": "f7a08f8a",
   "metadata": {},
   "source": [
    "Insights:\n",
    "\n",
    "The most frequent price range for mobile phones on eBay falls between CAD 0 to 100, suggesting that lower-priced phones are more commonly listed or that this price range is more popular among eBay listings.\n",
    "\n",
    "There is a significant number of phones in the CAD 200 to 300 price range, indicating a healthy market for mid-range priced phones.\n",
    "\n",
    "The histogram shows a roughly multimodal distribution, with noticeable peaks in the lower and mid-range price categories. This might suggest that both budget and moderately priced phones have substantial representation on the platform.\n",
    "\n",
    "Higher-priced phones (above CAD 400) are less frequent, implying either a lower supply or demand for premium or high-end mobile phones in the eBay marketplace.\n",
    "\n",
    "The frequency steadily decreases as the price increases, which is typical in consumer electronics markets where premium devices are less commonly purchased compared to budget and mid-range devices."
   ]
  },
  {
   "cell_type": "markdown",
   "id": "d292ee2b",
   "metadata": {},
   "source": [
    "### Step-5 : Label Encoding"
   ]
  },
  {
   "cell_type": "code",
   "execution_count": 60,
   "id": "7e31facf",
   "metadata": {},
   "outputs": [],
   "source": [
    "import pandas as pd\n",
    "\n",
    "# Label Encoding\n",
    "label_encoded = pd.factorize(ebays_df['Condition'])[0]\n",
    "ebays_df['Condition_LabelEncoded'] = label_encoded\n",
    "\n",
    "# One-Hot Encoding\n",
    "one_hot_encoded = pd.get_dummies(ebays_df['Condition'], prefix='Condition')\n",
    "ebays_df = pd.concat([ebays_df, one_hot_encoded], axis=1)"
   ]
  },
  {
   "cell_type": "code",
   "execution_count": 61,
   "id": "4bdf628b",
   "metadata": {},
   "outputs": [
    {
     "data": {
      "text/html": [
       "<div>\n",
       "<style scoped>\n",
       "    .dataframe tbody tr th:only-of-type {\n",
       "        vertical-align: middle;\n",
       "    }\n",
       "\n",
       "    .dataframe tbody tr th {\n",
       "        vertical-align: top;\n",
       "    }\n",
       "\n",
       "    .dataframe thead th {\n",
       "        text-align: right;\n",
       "    }\n",
       "</style>\n",
       "<table border=\"1\" class=\"dataframe\">\n",
       "  <thead>\n",
       "    <tr style=\"text-align: right;\">\n",
       "      <th></th>\n",
       "      <th>Title</th>\n",
       "      <th>Condition</th>\n",
       "      <th>Price(in CAD)</th>\n",
       "      <th>Brand</th>\n",
       "      <th>Condition_LabelEncoded</th>\n",
       "      <th>Condition_Brand New</th>\n",
       "      <th>Condition_Condition not found</th>\n",
       "      <th>Condition_Excellent - Refurbished</th>\n",
       "      <th>Condition_Good - Refurbished</th>\n",
       "      <th>Condition_New (Other)</th>\n",
       "      <th>Condition_Open Box</th>\n",
       "      <th>Condition_Parts Only</th>\n",
       "      <th>Condition_Pre-Owned</th>\n",
       "      <th>Condition_Very Good - Refurbished</th>\n",
       "    </tr>\n",
       "  </thead>\n",
       "  <tbody>\n",
       "    <tr>\n",
       "      <th>0</th>\n",
       "      <td>Shop on eBay</td>\n",
       "      <td>Brand New</td>\n",
       "      <td>20.00</td>\n",
       "      <td>Others</td>\n",
       "      <td>0</td>\n",
       "      <td>1</td>\n",
       "      <td>0</td>\n",
       "      <td>0</td>\n",
       "      <td>0</td>\n",
       "      <td>0</td>\n",
       "      <td>0</td>\n",
       "      <td>0</td>\n",
       "      <td>0</td>\n",
       "      <td>0</td>\n",
       "    </tr>\n",
       "    <tr>\n",
       "      <th>1</th>\n",
       "      <td>LG G6 - 32GB - Astro Black Unlocked Smartphone...</td>\n",
       "      <td>Very Good - Refurbished</td>\n",
       "      <td>89.99</td>\n",
       "      <td>LG</td>\n",
       "      <td>1</td>\n",
       "      <td>0</td>\n",
       "      <td>0</td>\n",
       "      <td>0</td>\n",
       "      <td>0</td>\n",
       "      <td>0</td>\n",
       "      <td>0</td>\n",
       "      <td>0</td>\n",
       "      <td>0</td>\n",
       "      <td>1</td>\n",
       "    </tr>\n",
       "    <tr>\n",
       "      <th>2</th>\n",
       "      <td>Motorola Edge 2023 5G - 256GB - Eclipse Black ...</td>\n",
       "      <td>Brand New</td>\n",
       "      <td>389.99</td>\n",
       "      <td>Motorola</td>\n",
       "      <td>0</td>\n",
       "      <td>1</td>\n",
       "      <td>0</td>\n",
       "      <td>0</td>\n",
       "      <td>0</td>\n",
       "      <td>0</td>\n",
       "      <td>0</td>\n",
       "      <td>0</td>\n",
       "      <td>0</td>\n",
       "      <td>0</td>\n",
       "    </tr>\n",
       "    <tr>\n",
       "      <th>3</th>\n",
       "      <td>Apple iPhone 7 - 128GB - All Colors - Unlocked...</td>\n",
       "      <td>Pre-Owned</td>\n",
       "      <td>165.08</td>\n",
       "      <td>Apple</td>\n",
       "      <td>2</td>\n",
       "      <td>0</td>\n",
       "      <td>0</td>\n",
       "      <td>0</td>\n",
       "      <td>0</td>\n",
       "      <td>0</td>\n",
       "      <td>0</td>\n",
       "      <td>0</td>\n",
       "      <td>1</td>\n",
       "      <td>0</td>\n",
       "    </tr>\n",
       "    <tr>\n",
       "      <th>4</th>\n",
       "      <td>S23 Ultra Smartphone 7.3\" 16GB+1T 5G Unlocked ...</td>\n",
       "      <td>Brand New</td>\n",
       "      <td>230.02</td>\n",
       "      <td>Others</td>\n",
       "      <td>0</td>\n",
       "      <td>1</td>\n",
       "      <td>0</td>\n",
       "      <td>0</td>\n",
       "      <td>0</td>\n",
       "      <td>0</td>\n",
       "      <td>0</td>\n",
       "      <td>0</td>\n",
       "      <td>0</td>\n",
       "      <td>0</td>\n",
       "    </tr>\n",
       "  </tbody>\n",
       "</table>\n",
       "</div>"
      ],
      "text/plain": [
       "                                               Title                Condition  \\\n",
       "0                                       Shop on eBay                Brand New   \n",
       "1  LG G6 - 32GB - Astro Black Unlocked Smartphone...  Very Good - Refurbished   \n",
       "2  Motorola Edge 2023 5G - 256GB - Eclipse Black ...                Brand New   \n",
       "3  Apple iPhone 7 - 128GB - All Colors - Unlocked...                Pre-Owned   \n",
       "4  S23 Ultra Smartphone 7.3\" 16GB+1T 5G Unlocked ...                Brand New   \n",
       "\n",
       "   Price(in CAD)     Brand  Condition_LabelEncoded  Condition_Brand New  \\\n",
       "0          20.00    Others                       0                    1   \n",
       "1          89.99        LG                       1                    0   \n",
       "2         389.99  Motorola                       0                    1   \n",
       "3         165.08     Apple                       2                    0   \n",
       "4         230.02    Others                       0                    1   \n",
       "\n",
       "   Condition_Condition not found  Condition_Excellent - Refurbished  \\\n",
       "0                              0                                  0   \n",
       "1                              0                                  0   \n",
       "2                              0                                  0   \n",
       "3                              0                                  0   \n",
       "4                              0                                  0   \n",
       "\n",
       "   Condition_Good - Refurbished  Condition_New (Other)  Condition_Open Box  \\\n",
       "0                             0                      0                   0   \n",
       "1                             0                      0                   0   \n",
       "2                             0                      0                   0   \n",
       "3                             0                      0                   0   \n",
       "4                             0                      0                   0   \n",
       "\n",
       "   Condition_Parts Only  Condition_Pre-Owned  \\\n",
       "0                     0                    0   \n",
       "1                     0                    0   \n",
       "2                     0                    0   \n",
       "3                     0                    1   \n",
       "4                     0                    0   \n",
       "\n",
       "   Condition_Very Good - Refurbished  \n",
       "0                                  0  \n",
       "1                                  1  \n",
       "2                                  0  \n",
       "3                                  0  \n",
       "4                                  0  "
      ]
     },
     "execution_count": 61,
     "metadata": {},
     "output_type": "execute_result"
    }
   ],
   "source": [
    "ebays_df.head()"
   ]
  },
  {
   "cell_type": "markdown",
   "id": "3713fb3e",
   "metadata": {},
   "source": [
    "## Step-6: Identifying Outliers"
   ]
  },
  {
   "cell_type": "code",
   "execution_count": 63,
   "id": "33da6972",
   "metadata": {},
   "outputs": [
    {
     "data": {
      "image/png": "[encoded data removed]",
      "text/plain": [
       "<Figure size 600x400 with 1 Axes>"
      ]
     },
     "metadata": {},
     "output_type": "display_data"
    },
    {
     "name": "stdout",
     "output_type": "stream",
     "text": [
      "[]\n"
     ]
    }
   ],
   "source": [
    "\n",
    "# Boxplot for 'Price(in CAD)'\n",
    "plt.figure(figsize=(6, 4))\n",
    "plt.boxplot(ebays_df['Price(in CAD)'], vert=False)\n",
    "plt.xlabel('Price (CAD)')\n",
    "plt.title('Boxplot of Price (CAD)')\n",
    "plt.show()\n",
    "\n",
    "# Calculate IQR\n",
    "Q1 = ebays_df['Price(in CAD)'].quantile(0.25)\n",
    "Q3 = ebays_df['Price(in CAD)'].quantile(0.75)\n",
    "IQR = Q3 - Q1\n",
    "\n",
    "# Identify outliers\n",
    "lower_bound = Q1 - 1.5 * IQR\n",
    "upper_bound = Q3 + 1.5 * IQR\n",
    "outliers = ebays_df[(ebays_df['Price(in CAD)'] < lower_bound) | (ebays_df['Price(in CAD)'] > upper_bound)]\n",
    "\n",
    "print(outliers['Price(in CAD)'].tolist())"
   ]
  },
  {
   "cell_type": "markdown",
   "id": "b5d2dfc6",
   "metadata": {},
   "source": [
    "## Step7- Addressing the Outliers"
   ]
  },
  {
   "cell_type": "code",
   "execution_count": 64,
   "id": "744df2b6",
   "metadata": {},
   "outputs": [
    {
     "name": "stdout",
     "output_type": "stream",
     "text": [
      "Original:\n",
      "count    8298.000000\n",
      "mean      195.393366\n",
      "std       131.054639\n",
      "min         1.000000\n",
      "25%        83.330000\n",
      "50%       187.930000\n",
      "75%       269.990000\n",
      "max       519.990000\n",
      "Name: Price(in CAD), dtype: float64\n",
      "\n",
      "Capped:\n",
      "count    8298.000000\n",
      "mean      192.555106\n",
      "std       123.120056\n",
      "min        27.000000\n",
      "25%        83.330000\n",
      "50%       187.930000\n",
      "75%       269.990000\n",
      "max       430.300000\n",
      "Name: Price_Capped, dtype: float64\n",
      "\n",
      "Trimmed:\n",
      "count    7622.000000\n",
      "mean      187.343147\n",
      "std       112.286986\n",
      "min        27.000000\n",
      "25%        87.950000\n",
      "50%       187.930000\n",
      "75%       257.090000\n",
      "max       430.300000\n",
      "Name: Price(in CAD), dtype: float64\n",
      "\n",
      "Log Transformation:\n",
      "count    8298.000000\n",
      "mean        4.938807\n",
      "std         1.001426\n",
      "min         0.000000\n",
      "25%         4.422809\n",
      "50%         5.236070\n",
      "75%         5.598385\n",
      "max         6.253810\n",
      "Name: Price_Log, dtype: float64\n"
     ]
    }
   ],
   "source": [
    "import numpy as np\n",
    "# Quantile-based Flooring and Capping\n",
    "Q1 = ebays_df['Price(in CAD)'].quantile(0.05)\n",
    "Q3 = ebays_df['Price(in CAD)'].quantile(0.95)\n",
    "ebays_df['Price_Capped'] = ebays_df['Price(in CAD)'].clip(lower=Q1, upper=Q3)\n",
    "\n",
    "# Trimming\n",
    "trim_lower = ebays_df['Price(in CAD)'].quantile(0.05)\n",
    "trim_upper = ebays_df['Price(in CAD)'].quantile(0.95)\n",
    "ebays_df_trimmed = ebays_df[(ebays_df['Price(in CAD)'] >= trim_lower) & (ebays_df['Price(in CAD)'] <= trim_upper)]\n",
    "\n",
    "# Log Transformation\n",
    "ebays_df['Price_Log'] = np.log(ebays_df['Price(in CAD)'])\n",
    "\n",
    "# Print summary statistics\n",
    "print(\"Original:\")\n",
    "print(ebays_df['Price(in CAD)'].describe())\n",
    "print(\"\\nCapped:\")\n",
    "print(ebays_df['Price_Capped'].describe())\n",
    "print(\"\\nTrimmed:\")\n",
    "print(ebays_df_trimmed['Price(in CAD)'].describe())\n",
    "print(\"\\nLog Transformation:\")\n",
    "print(ebays_df['Price_Log'].describe())\n"
   ]
  },
  {
   "cell_type": "markdown",
   "id": "2953ce18",
   "metadata": {},
   "source": [
    "Observation:\n",
    "\n",
    "Despite not finding any clear outliers, it's prudent to take measures to ensure robustness in our data analysis. We employ three different techniques to address potential outliers: Quantile-based Flooring and Capping, Trimming, and Log Transformation.\n",
    "\n",
    "• Quantile-based Flooring and Capping: This technique involves identifying the lower and upper quantiles of the data and capping extreme values beyond these quantiles. After capping, the mean and standard deviation are slightly reduced compared to the original data. This indicates a decrease in the influence of extreme values, resulting in a narrower range of values.\n",
    "\n",
    "• Trimming: Trimming entails removing extreme values beyond certain quantiles, effectively trimming the tails of the distribution. After trimming, the mean and standard deviation are further reduced, reflecting the exclusion of outliers from the dataset. The range of values becomes narrower, indicating the removal of extreme values.\n",
    "\n",
    "• Log Transformation: Log transformation is applied to compress the range of values, particularly for large outliers. After transformation, the mean and standard deviation are decreased compared to the original data. The distribution of values becomes more symmetrical, as evident from the decrease in skewness and kurtosis."
   ]
  },
  {
   "cell_type": "code",
   "execution_count": 65,
   "id": "afc63f88",
   "metadata": {},
   "outputs": [
    {
     "data": {
      "text/plain": [
       "(8298, 16)"
      ]
     },
     "execution_count": 65,
     "metadata": {},
     "output_type": "execute_result"
    }
   ],
   "source": [
    "ebays_df.shape"
   ]
  },
  {
   "cell_type": "markdown",
   "id": "6faa5b1d",
   "metadata": {},
   "source": [
    "## Step 8: Using unsupervised learning method"
   ]
  },
  {
   "cell_type": "code",
   "execution_count": 95,
   "id": "7fb1bc53",
   "metadata": {},
   "outputs": [
    {
     "data": {
      "image/png": "[encoded data removed]",
      "text/plain": [
       "<Figure size 800x600 with 1 Axes>"
      ]
     },
     "metadata": {},
     "output_type": "display_data"
    }
   ],
   "source": [
    "from sklearn.cluster import KMeans\n",
    "from sklearn.preprocessing import StandardScaler\n",
    "import matplotlib.pyplot as plt\n",
    "\n",
    "# Select numerical columns for clustering\n",
    "numerical_columns = ['Price(in CAD)']\n",
    "\n",
    "# Standardize the data\n",
    "scaler = StandardScaler()\n",
    "scaled_data = scaler.fit_transform(ebays_df[numerical_columns])\n",
    "\n",
    "# Calculate inertia for different numbers of clusters\n",
    "inertia = []\n",
    "for n_clusters in range(1, 11):  # Try different numbers of clusters from 1 to 10\n",
    "    kmeans = KMeans(n_clusters=n_clusters, random_state=42)\n",
    "    kmeans.fit(scaled_data)\n",
    "    inertia.append(kmeans.inertia_)\n",
    "\n",
    "# Plot the elbow curve\n",
    "plt.figure(figsize=(8, 6))\n",
    "plt.plot(range(1, 11), inertia, marker='o', linestyle='-', color='b')\n",
    "plt.title('Elbow Method for Optimal Number of Clusters')\n",
    "plt.xlabel('Number of Clusters')\n",
    "plt.ylabel('Within-Cluster Sum of Squares (Inertia)')\n",
    "plt.xticks(range(1, 11))\n",
    "plt.grid(True)\n",
    "plt.show()\n"
   ]
  },
  {
   "cell_type": "code",
   "execution_count": 91,
   "id": "82d1d4a2",
   "metadata": {},
   "outputs": [
    {
     "name": "stdout",
     "output_type": "stream",
     "text": [
      "Cluster Counts for K-Means:\n",
      "0    3614\n",
      "1    3208\n",
      "2    1476\n",
      "Name: KMeans_Cluster, dtype: int64\n"
     ]
    }
   ],
   "source": [
    "from sklearn.cluster import KMeans\n",
    "from sklearn.preprocessing import StandardScaler\n",
    "\n",
    "# Select numerical columns for clustering\n",
    "numerical_columns = ['Price(in CAD)']\n",
    "\n",
    "# Standardize the data\n",
    "scaler = StandardScaler()\n",
    "scaled_data = scaler.fit_transform(ebays_df[numerical_columns])\n",
    "\n",
    "# Apply K-Means clustering\n",
    "kmeans = KMeans(n_clusters=3, random_state=42)\n",
    "ebays_df['KMeans_Cluster'] = kmeans.fit_predict(scaled_data)\n",
    "\n",
    "# Analyze cluster distribution\n",
    "cluster_counts = ebays_df['KMeans_Cluster'].value_counts()\n",
    "print(\"Cluster Counts for K-Means:\")\n",
    "print(cluster_counts)"
   ]
  },
  {
   "cell_type": "code",
   "execution_count": 92,
   "id": "98a4c0a1",
   "metadata": {},
   "outputs": [
    {
     "data": {
      "image/png": "[encoded data removed]",
      "text/plain": [
       "<Figure size 1000x600 with 2 Axes>"
      ]
     },
     "metadata": {},
     "output_type": "display_data"
    }
   ],
   "source": [
    "import matplotlib.pyplot as plt\n",
    "\n",
    "# Scatter plot for K-Means clustering\n",
    "plt.figure(figsize=(10, 6))\n",
    "plt.scatter(ebays_df['Price(in CAD)'], ebays_df['KMeans_Cluster'], c=ebays_df['KMeans_Cluster'], cmap='viridis')\n",
    "plt.title('K-Means Clustering')\n",
    "plt.xlabel('Price(in CAD)')\n",
    "plt.ylabel('Cluster')\n",
    "plt.colorbar(label='Cluster')\n",
    "plt.show()\n"
   ]
  },
  {
   "cell_type": "code",
   "execution_count": 93,
   "id": "d8249c21",
   "metadata": {},
   "outputs": [
    {
     "name": "stdout",
     "output_type": "stream",
     "text": [
      "Cluster Counts for Gaussian Mixture Models:\n",
      "0    4222\n",
      "1    2600\n",
      "2    1476\n",
      "Name: GMM_Cluster, dtype: int64\n"
     ]
    }
   ],
   "source": [
    "from sklearn.mixture import GaussianMixture\n",
    "from sklearn.preprocessing import StandardScaler\n",
    "\n",
    "# Select numerical columns for clustering\n",
    "numerical_columns = ['Price(in CAD)']\n",
    "\n",
    "# Standardize the data\n",
    "scaler = StandardScaler()\n",
    "scaled_data = scaler.fit_transform(ebays_df[numerical_columns])\n",
    "\n",
    "# Apply Gaussian Mixture Model clustering\n",
    "gmm = GaussianMixture(n_components=3, random_state=42)\n",
    "ebays_df['GMM_Cluster'] = gmm.fit_predict(scaled_data)\n",
    "\n",
    "# Analyze cluster distribution\n",
    "cluster_counts = ebays_df['GMM_Cluster'].value_counts()\n",
    "print(\"Cluster Counts for Gaussian Mixture Models:\")\n",
    "print(cluster_counts)\n"
   ]
  },
  {
   "cell_type": "code",
   "execution_count": 94,
   "id": "9a97a78d",
   "metadata": {},
   "outputs": [
    {
     "data": {
      "image/png": "[encoded data removed]",
      "text/plain": [
       "<Figure size 1000x600 with 2 Axes>"
      ]
     },
     "metadata": {},
     "output_type": "display_data"
    }
   ],
   "source": [
    "# Scatter plot for Gaussian Mixture Models clustering\n",
    "plt.figure(figsize=(10, 6))\n",
    "plt.scatter(ebays_df['Price(in CAD)'], ebays_df['GMM_Cluster'], c=ebays_df['GMM_Cluster'], cmap='viridis')\n",
    "plt.title('Gaussian Mixture Models Clustering')\n",
    "plt.xlabel('Price(in CAD)')\n",
    "plt.ylabel('Cluster')\n",
    "plt.colorbar(label='Cluster')\n",
    "plt.show()\n"
   ]
  },
  {
   "cell_type": "code",
   "execution_count": null,
   "id": "1aadba25",
   "metadata": {},
   "outputs": [],
   "source": []
  }
 ],
 "metadata": {
  "kernelspec": {
   "display_name": "Python 3 (ipykernel)",
   "language": "python",
   "name": "python3"
  },
  "language_info": {
   "codemirror_mode": {
    "name": "ipython",
    "version": 3
   },
   "file_extension": ".py",
   "mimetype": "text/x-python",
   "name": "python",
   "nbconvert_exporter": "python",
   "pygments_lexer": "ipython3",
   "version": "3.9.13"
  }
 },
 "nbformat": 4,
 "nbformat_minor": 5
}
